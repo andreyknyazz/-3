{
 "cells": [
  {
   "cell_type": "markdown",
   "id": "fc87d0ef",
   "metadata": {},
   "source": [
    "# моя первая программа"
   ]
  },
  {
   "cell_type": "markdown",
   "id": "2dd764f9",
   "metadata": {},
   "source": [
    "## 1.1 первый пункт   :)"
   ]
  },
  {
   "cell_type": "markdown",
   "id": "edd35792",
   "metadata": {},
   "source": [
    "Небольшая информация о моей программе"
   ]
  },
  {
   "cell_type": "code",
   "execution_count": 1,
   "id": "79f1e431",
   "metadata": {},
   "outputs": [
    {
     "name": "stdout",
     "output_type": "stream",
     "text": [
      "HEllo, Sergey Urievich\n"
     ]
    }
   ],
   "source": [
    "print ('HEllo, Sergey Urievich')"
   ]
  },
  {
   "cell_type": "code",
   "execution_count": null,
   "id": "f0168ebf",
   "metadata": {},
   "outputs": [],
   "source": []
  }
 ],
 "metadata": {
  "kernelspec": {
   "display_name": "Python 3 (ipykernel)",
   "language": "python",
   "name": "python3"
  },
  "language_info": {
   "codemirror_mode": {
    "name": "ipython",
    "version": 3
   },
   "file_extension": ".py",
   "mimetype": "text/x-python",
   "name": "python",
   "nbconvert_exporter": "python",
   "pygments_lexer": "ipython3",
   "version": "3.9.12"
  }
 },
 "nbformat": 4,
 "nbformat_minor": 5
}
