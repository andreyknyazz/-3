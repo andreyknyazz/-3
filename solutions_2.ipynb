{
 "cells": [
  {
   "cell_type": "markdown",
   "metadata": {},
   "source": [
    "# 2. Предобработка исследовательских данных\n"
   ]
  },
  {
   "cell_type": "markdown",
   "metadata": {},
   "source": [
    "## 1. Подключение и работа с библиотекой numpy"
   ]
  },
  {
   "cell_type": "markdown",
   "metadata": {},
   "source": [
    "### Задание 1.1"
   ]
  },
  {
   "cell_type": "code",
   "execution_count": 7,
   "metadata": {},
   "outputs": [
    {
     "name": "stdout",
     "output_type": "stream",
     "text": [
      "Количество строк a =  3\n",
      "Количество строк a =  3\n",
      "Количество строк b =  3\n",
      "Количество строк b =  3\n"
     ]
    }
   ],
   "source": [
    "import numpy as np\n",
    "\n",
    "a = np.array([[2.3, 5.1, 4.7],\n",
    "              [3.5, 6.7, 1.5],\n",
    "              [8.4, 3.1, 9.2]])\n",
    "\n",
    "b = np.array([[4.3, 8.1, 6.1],\n",
    "              [3.7, 6.2, 1.5],\n",
    "              [2.4, 5.7, 4.7]])\n",
    "\n",
    "#1\n",
    "rows, columns = a.shape\n",
    "\n",
    "print(\"Количество строк a = \",rows)\n",
    "print(\"Количество строк a = \", columns)\n",
    "\n",
    "rows, columns = b.shape\n",
    "\n",
    "print(\"Количество строк b = \",rows)\n",
    "print(\"Количество строк b = \", columns)\n",
    "\n",
    "#2\n",
    "\n"
   ]
  }
 ],
 "metadata": {
  "kernelspec": {
   "display_name": "Python 3.10.6 64-bit",
   "language": "python",
   "name": "python3"
  },
  "language_info": {
   "codemirror_mode": {
    "name": "ipython",
    "version": 3
   },
   "file_extension": ".py",
   "mimetype": "text/x-python",
   "name": "python",
   "nbconvert_exporter": "python",
   "pygments_lexer": "ipython3",
   "version": "3.10.6"
  },
  "orig_nbformat": 4,
  "vscode": {
   "interpreter": {
    "hash": "46b0ae78ce8d2e6407bde63aa3aec804518bf8cfa8e47c740584ddbfbc18bb20"
   }
  }
 },
 "nbformat": 4,
 "nbformat_minor": 2
}
